{
 "cells": [
  {
   "attachments": {},
   "cell_type": "markdown",
   "metadata": {},
   "source": [
    "## Imports and Setup"
   ]
  },
  {
   "cell_type": "code",
   "execution_count": 1,
   "metadata": {},
   "outputs": [],
   "source": [
    "import os\n",
    "import torch\n",
    "import torch.nn as nn\n",
    "import torch.nn.functional as F\n",
    "import torch.optim as optim\n",
    "from torchvision import datasets, transforms\n",
    "from torch.utils.data import DataLoader\n",
    "import matplotlib.pyplot as plt\n",
    "import numpy as np\n",
    "import torchvision.models as models\n",
    "import pickle\n"
   ]
  },
  {
   "attachments": {},
   "cell_type": "markdown",
   "metadata": {},
   "source": [
    "## Data Preparation"
   ]
  },
  {
   "attachments": {},
   "cell_type": "markdown",
   "metadata": {},
   "source": [
    "### Data Augmentation and Normalization"
   ]
  },
  {
   "cell_type": "code",
   "execution_count": 2,
   "metadata": {},
   "outputs": [],
   "source": [
    "transform_train = transforms.Compose([\n",
    "    transforms.RandomHorizontalFlip(),\n",
    "    transforms.RandomRotation(10),\n",
    "    transforms.RandomAffine(0, shear=10, scale=(0.8, 1.2)),\n",
    "    transforms.ColorJitter(brightness=0.2, contrast=0.2, saturation=0.2),\n",
    "    transforms.ToTensor(),\n",
    "    transforms.Normalize((0.5, 0.5, 0.5), (0.5, 0.5, 0.5))\n",
    "])\n",
    "\n",
    "transform_test = transforms.Compose([\n",
    "    transforms.ToTensor(),\n",
    "    transforms.Normalize((0.5, 0.5, 0.5), (0.5, 0.5, 0.5))\n",
    "])"
   ]
  },
  {
   "attachments": {},
   "cell_type": "markdown",
   "metadata": {},
   "source": [
    "### Loading the CIFAR-10 Dataset"
   ]
  },
  {
   "cell_type": "code",
   "execution_count": 3,
   "metadata": {},
   "outputs": [
    {
     "name": "stdout",
     "output_type": "stream",
     "text": [
      "Files already downloaded and verified\n",
      "Files already downloaded and verified\n"
     ]
    }
   ],
   "source": [
    "train_dataset = datasets.CIFAR10(root='./data', train=True, download=True, transform=transform_train)\n",
    "test_dataset = datasets.CIFAR10(root='./data', train=False, download=True, transform=transform_test)\n",
    "\n",
    "train_loader = DataLoader(train_dataset, batch_size=4, shuffle=True)\n",
    "test_loader = DataLoader(test_dataset, batch_size=4, shuffle=False)\n"
   ]
  },
  {
   "attachments": {},
   "cell_type": "markdown",
   "metadata": {},
   "source": [
    "## Visualization Function"
   ]
  },
  {
   "cell_type": "code",
   "execution_count": 4,
   "metadata": {},
   "outputs": [
    {
     "data": {
      "image/png": "[encoded data removed]",
      "text/plain": [
       "<Figure size 1500x1500 with 4 Axes>"
      ]
     },
     "metadata": {},
     "output_type": "display_data"
    }
   ],
   "source": [
    "def plot_images(images, labels, classes):\n",
    "    fig, axes = plt.subplots(1, len(images), figsize=(15,15))\n",
    "    images = images / 2 + 0.5  # Unnormalize\n",
    "    for i, ax in enumerate(axes):\n",
    "        img = images[i].numpy().transpose((1, 2, 0))\n",
    "        ax.imshow(img)\n",
    "        ax.set_title(classes[labels[i]])\n",
    "        ax.axis('off')\n",
    "    plt.show()\n",
    "\n",
    "# Load label names for CIFAR-10\n",
    "data_dir = './data/cifar-10-batches-py'\n",
    "with open(os.path.join(data_dir, 'batches.meta'), 'rb') as f:\n",
    "    label_names = pickle.load(f)['label_names']\n",
    "\n",
    "# Fetch some images and labels from the DataLoader to visualize\n",
    "data_iter = iter(train_loader)\n",
    "images, labels = next(data_iter)\n",
    "plot_images(images, labels.tolist(), label_names)\n"
   ]
  },
  {
   "attachments": {},
   "cell_type": "markdown",
   "metadata": {},
   "source": [
    "## Model Definition\n",
    "\n",
    "### Custom CNN Model"
   ]
  },
  {
   "cell_type": "code",
   "execution_count": 5,
   "metadata": {},
   "outputs": [],
   "source": [
    "class ModifiedNet(nn.Module):\n",
    "    def __init__(self):\n",
    "        super(ModifiedNet, self).__init__()\n",
    "        self.conv1 = nn.Conv2d(3, 6, 5)\n",
    "        self.bn1 = nn.BatchNorm2d(6)\n",
    "        self.pool = nn.MaxPool2d(2, 2)\n",
    "        self.conv2 = nn.Conv2d(6, 16, 5)\n",
    "        self.bn2 = nn.BatchNorm2d(16)\n",
    "        self.fc1 = nn.Linear(16 * 5 * 5, 120)\n",
    "        self.dropout = nn.Dropout(0.5)\n",
    "        self.fc2 = nn.Linear(120, 84)\n",
    "        self.fc3 = nn.Linear(84, 10)\n",
    "\n",
    "    def forward(self, x):\n",
    "        x = self.pool(F.relu(self.bn1(self.conv1(x))))\n",
    "        x = self.pool(F.relu(self.bn2(self.conv2(x))))\n",
    "        x = x.view(-1, 16 * 5 * 5)\n",
    "        x = F.relu(self.fc1(x))\n",
    "        x = self.dropout(x)\n",
    "        x = F.relu(self.fc2(x))\n",
    "        x = self.fc3(x)\n",
    "        return x\n",
    "\n",
    "net = ModifiedNet()\n"
   ]
  },
  {
   "attachments": {},
   "cell_type": "markdown",
   "metadata": {},
   "source": [
    "### ResNet Model Adaptation"
   ]
  },
  {
   "cell_type": "code",
   "execution_count": 6,
   "metadata": {},
   "outputs": [
    {
     "name": "stderr",
     "output_type": "stream",
     "text": [
      "/Library/Frameworks/Python.framework/Versions/3.11/lib/python3.11/site-packages/torchvision/models/_utils.py:208: UserWarning: The parameter 'pretrained' is deprecated since 0.13 and may be removed in the future, please use 'weights' instead.\n",
      "  warnings.warn(\n",
      "/Library/Frameworks/Python.framework/Versions/3.11/lib/python3.11/site-packages/torchvision/models/_utils.py:223: UserWarning: Arguments other than a weight enum or `None` for 'weights' are deprecated since 0.13 and may be removed in the future. The current behavior is equivalent to passing `weights=None`.\n",
      "  warnings.warn(msg)\n"
     ]
    }
   ],
   "source": [
    "def modify_resnet(model):\n",
    "    model.conv1 = nn.Conv2d(3, 64, kernel_size=3, stride=1, padding=1, bias=False)\n",
    "    model.maxpool = nn.Identity()\n",
    "    num_ftrs = model.fc.in_features\n",
    "    model.fc = nn.Linear(num_ftrs, 10)\n",
    "    return model\n",
    "\n",
    "resnet = models.resnet18(pretrained=False)\n",
    "resnet = modify_resnet(resnet)\n"
   ]
  },
  {
   "attachments": {},
   "cell_type": "markdown",
   "metadata": {},
   "source": [
    "## Training and Evaluation Functions"
   ]
  },
  {
   "cell_type": "code",
   "execution_count": 7,
   "metadata": {},
   "outputs": [],
   "source": [
    "def train_model(model, train_loader, criterion, optimizer, num_epochs=10):\n",
    "    for epoch in range(num_epochs):\n",
    "        running_loss = 0.0\n",
    "        for i, data in enumerate(train_loader, 0):\n",
    "            inputs, labels = data\n",
    "            optimizer.zero_grad()\n",
    "            outputs = model(inputs)\n",
    "            loss = criterion(outputs, labels)\n",
    "            loss.backward()\n",
    "            optimizer.step()\n",
    "            running_loss += loss.item()\n",
    "        print(f'Epoch {epoch+1}/{num_epochs}, Loss: {running_loss/len(train_loader)}')\n",
    "    print('Finished Training')\n",
    "\n",
    "def evaluate_model(model, test_loader):\n",
    "    correct = 0\n",
    "    total = 0\n",
    "    with torch.no_grad():\n",
    "        for data in test_loader:\n",
    "            images, labels = data\n",
    "            outputs = model(images)\n",
    "            _, predicted = torch.max(outputs.data, 1)\n",
    "            total += labels.size(0)\n",
    "            correct += (predicted == labels).sum().item()\n",
    "    accuracy = 100 * correct / total\n",
    "    print(f'Accuracy of the network on the 10000 test images: {accuracy:.2f} %')\n",
    "    return accuracy\n"
   ]
  },
  {
   "attachments": {},
   "cell_type": "markdown",
   "metadata": {},
   "source": [
    "## Training and Testing the Models\n",
    "\n",
    "### Setup for Custom CNN Model"
   ]
  },
  {
   "cell_type": "code",
   "execution_count": 8,
   "metadata": {},
   "outputs": [
    {
     "name": "stdout",
     "output_type": "stream",
     "text": [
      "Training Custom CNN Model...\n",
      "Epoch 1/10, Loss: 1.8576253107213974\n",
      "Epoch 2/10, Loss: 1.6883800463414191\n",
      "Epoch 3/10, Loss: 1.6301735483527184\n",
      "Epoch 4/10, Loss: 1.5890452156496049\n",
      "Epoch 5/10, Loss: 1.5642286009073259\n",
      "Epoch 6/10, Loss: 1.5371494859695434\n",
      "Epoch 7/10, Loss: 1.5326290872192383\n",
      "Epoch 8/10, Loss: 1.520405239393711\n",
      "Epoch 9/10, Loss: 1.5018458702224493\n",
      "Epoch 10/10, Loss: 1.497139142407179\n",
      "Finished Training\n",
      "Evaluating Custom CNN Model...\n",
      "Accuracy of the network on the 10000 test images: 50.63 %\n"
     ]
    }
   ],
   "source": [
    "criterion = nn.CrossEntropyLoss()\n",
    "optimizer_custom = optim.Adam(net.parameters(), lr=0.001)\n",
    "\n",
    "print(\"Training Custom CNN Model...\")\n",
    "train_model(net, train_loader, criterion, optimizer_custom, num_epochs=10)\n",
    "\n",
    "print(\"Evaluating Custom CNN Model...\")\n",
    "accuracy_custom = evaluate_model(net, test_loader)\n"
   ]
  },
  {
   "attachments": {},
   "cell_type": "markdown",
   "metadata": {},
   "source": [
    "### Setup for ResNet Model"
   ]
  },
  {
   "cell_type": "code",
   "execution_count": 9,
   "metadata": {},
   "outputs": [
    {
     "name": "stdout",
     "output_type": "stream",
     "text": [
      "Training ResNet Model...\n",
      "Epoch 1/10, Loss: 1.6322961593091487\n",
      "Epoch 2/10, Loss: 1.1146270298734307\n",
      "Epoch 3/10, Loss: 0.894581292717196\n",
      "Epoch 4/10, Loss: 0.7708940484458581\n",
      "Epoch 5/10, Loss: 0.6906068730350584\n",
      "Epoch 6/10, Loss: 0.6249914787191945\n",
      "Epoch 7/10, Loss: 0.5741033629724197\n",
      "Epoch 8/10, Loss: 0.5324566772948718\n",
      "Epoch 9/10, Loss: 0.4920882902080426\n",
      "Epoch 10/10, Loss: 0.45586180335235954\n",
      "Finished Training\n",
      "Evaluating ResNet Model...\n",
      "Accuracy of the network on the 10000 test images: 85.48 %\n"
     ]
    }
   ],
   "source": [
    "optimizer_resnet = optim.Adam(resnet.parameters(), lr=0.001)\n",
    "\n",
    "print(\"Training ResNet Model...\")\n",
    "train_model(resnet, train_loader, criterion, optimizer_resnet, num_epochs=10)\n",
    "\n",
    "print(\"Evaluating ResNet Model...\")\n",
    "accuracy_resnet = evaluate_model(resnet, test_loader)\n"
   ]
  },
  {
   "attachments": {},
   "cell_type": "markdown",
   "metadata": {},
   "source": [
    "## Comparing Model Performances"
   ]
  },
  {
   "cell_type": "code",
   "execution_count": 10,
   "metadata": {},
   "outputs": [
    {
     "name": "stdout",
     "output_type": "stream",
     "text": [
      "Custom CNN Model Accuracy: 50.63 %\n",
      "ResNet Model Accuracy: 85.48 %\n",
      "ResNet performed better than the custom CNN model.\n"
     ]
    }
   ],
   "source": [
    "print(f\"Custom CNN Model Accuracy: {accuracy_custom:.2f} %\")\n",
    "print(f\"ResNet Model Accuracy: {accuracy_resnet:.2f} %\")\n",
    "\n",
    "if accuracy_resnet > accuracy_custom:\n",
    "    print(\"ResNet performed better than the custom CNN model.\")\n",
    "else:\n",
    "    print(\"Custom CNN model performed better than or equal to ResNet.\")\n"
   ]
  },
  {
   "cell_type": "code",
   "execution_count": 11,
   "metadata": {},
   "outputs": [
    {
     "data": {
      "image/png": "[encoded data removed]",
      "text/plain": [
       "<Figure size 1000x600 with 1 Axes>"
      ]
     },
     "metadata": {},
     "output_type": "display_data"
    }
   ],
   "source": [
    "import matplotlib.pyplot as plt\n",
    "\n",
    "# Accuracy values\n",
    "accuracies = [50.63, 85.48]\n",
    "model_names = ['Custom CNN', 'ResNet']\n",
    "\n",
    "# Creating the bar plot\n",
    "plt.figure(figsize=(10, 6))\n",
    "plt.bar(model_names, accuracies, color=['blue', 'green'])\n",
    "\n",
    "# Adding title and labels\n",
    "plt.title('Model Accuracy Comparison')\n",
    "plt.xlabel('Model')\n",
    "plt.ylabel('Accuracy (%)')\n",
    "plt.ylim(0, 100)  # Set y-axis range to show percentages clearly\n",
    "\n",
    "# Displaying the accuracy values on top of the bars\n",
    "for i, accuracy in enumerate(accuracies):\n",
    "    plt.text(i, accuracy + 1, f\"{accuracy}%\", ha = 'center', color = 'black')\n",
    "\n",
    "# Show the plot\n",
    "plt.show()\n"
   ]
  },
  {
   "cell_type": "code",
   "execution_count": null,
   "metadata": {},
   "outputs": [],
   "source": []
  }
 ],
 "metadata": {
  "kernelspec": {
   "display_name": "Python 3",
   "language": "python",
   "name": "python3"
  },
  "language_info": {
   "codemirror_mode": {
    "name": "ipython",
    "version": 3
   },
   "file_extension": ".py",
   "mimetype": "text/x-python",
   "name": "python",
   "nbconvert_exporter": "python",
   "pygments_lexer": "ipython3",
   "version": "3.11.2"
  },
  "orig_nbformat": 4
 },
 "nbformat": 4,
 "nbformat_minor": 2
}
